{
  "cells": [
    {
      "cell_type": "markdown",
      "metadata": {
        "id": "view-in-github",
        "colab_type": "text"
      },
      "source": [
        "<a href=\"https://colab.research.google.com/github/Shuja1401/BuildingBlocks/blob/main/TheCodes/Project3_Contact_Book.ipynb\" target=\"_parent\"><img src=\"https://colab.research.google.com/assets/colab-badge.svg\" alt=\"Open In Colab\"/></a>"
      ]
    },
    {
      "cell_type": "code",
      "execution_count": 1,
      "metadata": {
        "colab": {
          "base_uri": "https://localhost:8080/"
        },
        "id": "9DCtaizwk0aP",
        "outputId": "3ac89dc4-be38-4adf-d793-407cadce457f"
      },
      "outputs": [
        {
          "output_type": "stream",
          "name": "stdout",
          "text": [
            "Reading package lists... Done\n",
            "Building dependency tree... Done\n",
            "Reading state information... Done\n",
            "git is already the newest version (1:2.34.1-1ubuntu1.15).\n",
            "0 upgraded, 0 newly installed, 0 to remove and 35 not upgraded.\n"
          ]
        }
      ],
      "source": [
        "!apt-get install git"
      ]
    },
    {
      "cell_type": "code",
      "source": [
        "!git config --global user.email \"asrar.shuja@gmail.com\"\n",
        "!git config --global user.name \"Shuja1401\""
      ],
      "metadata": {
        "id": "5MROLdx63VRP"
      },
      "execution_count": 2,
      "outputs": []
    },
    {
      "cell_type": "code",
      "source": [
        "!git clone https://github.com/Shuja1401/BuildingBlocks"
      ],
      "metadata": {
        "colab": {
          "base_uri": "https://localhost:8080/"
        },
        "id": "M50aMtb83cT0",
        "outputId": "7f8ed798-d33d-45d7-9639-e60de7103510"
      },
      "execution_count": 3,
      "outputs": [
        {
          "output_type": "stream",
          "name": "stdout",
          "text": [
            "Cloning into 'BuildingBlocks'...\n",
            "remote: Enumerating objects: 284, done.\u001b[K\n",
            "remote: Counting objects: 100% (103/103), done.\u001b[K\n",
            "remote: Compressing objects: 100% (88/88), done.\u001b[K\n",
            "remote: Total 284 (delta 53), reused 12 (delta 12), pack-reused 181 (from 1)\u001b[K\n",
            "Receiving objects: 100% (284/284), 79.42 KiB | 6.11 MiB/s, done.\n",
            "Resolving deltas: 100% (103/103), done.\n"
          ]
        }
      ]
    },
    {
      "cell_type": "code",
      "source": [
        "from ast import Return\n",
        "# This function is the main menu. It calls all the other functions to perform the following tasks: add contact, delete contact and show contact\n",
        "\n",
        "contacts=[] #A list containing dictionary of contacts.\n",
        "\n",
        "def main():\n",
        "  print(\"-------MAIN MENU-------\")\n",
        "  print(\"Select an option\")\n",
        "  print(\"1. Add Contact\")\n",
        "  print(\"2. Delete Contact\")\n",
        "  print(\"3. Show Contact\")\n",
        "  print(\"4. Exit\")\n",
        "  option=int(input(\"Enter number (1-4):\"))\n",
        "  if option==1:\n",
        "    add_contact()\n",
        "  elif option==2:\n",
        "    delete_contact()\n",
        "  elif option==3:\n",
        "    show_contact()\n",
        "  elif option==4:\n",
        "    exit()\n",
        "  else:\n",
        "    print(\"Invalid option\")\n",
        "\n",
        "# Function to add a contact.\n",
        "def add_contact():\n",
        "  print(\"-------Add Contact------\")\n",
        "  name=input(\"Enter name:\")\n",
        "  phone=input(\"Enter phone number:\")\n",
        "  email=input(\"Enter email:\")\n",
        "  for contact in contacts:\n",
        "    if contact[\"name\"]==name:\n",
        "      print(\"Contact already exists.\")\n",
        "      return\n",
        "  contact={\"name\":name,\"phone\":phone,\"email\":email} #we create a dictionary of the contact to be added to the contact list.\n",
        "  contacts.append(contact) #This will add the newly created contact (dictionary) to the main contacts list (dictionary).\n",
        "  print(\"Addition successful.\")\n",
        "\n",
        "# Function to delete a contact.\n",
        "def delete_contact():\n",
        "  flag=\"FALSE\"\n",
        "  print(\"------Delete Contact------\")\n",
        "  name=input(\"Enter the name of the contact you want to delete.\")\n",
        "  for i in range(len(contacts)):\n",
        "    if contacts[i][\"name\"]==name:\n",
        "      del contacts[i]\n",
        "      flag=\"TRUE\"\n",
        "      print(\"Removal successful\")\n",
        "    elif flag==\"FALSE\":\n",
        "      print(\"No record exists.\")\n",
        "\n",
        "\n",
        "#Function to show all contact.\n",
        "def show_contact():\n",
        "  print(\"----Contact List----\")\n",
        "  for contact in contacts:\n",
        "    print(contact)\n",
        "\n",
        "while True:\n",
        "  main()"
      ],
      "metadata": {
        "colab": {
          "base_uri": "https://localhost:8080/"
        },
        "id": "ZVFru3EJ4Aar",
        "outputId": "8ec3710f-ddaa-4e62-aa14-41f8d2492403"
      },
      "execution_count": null,
      "outputs": [
        {
          "output_type": "stream",
          "name": "stdout",
          "text": [
            "-------MAIN MENU-------\n",
            "Select an option\n",
            "1. Add Contact\n",
            "2. Delete Contact\n",
            "3. Show Contact\n",
            "4. Exit\n",
            "Enter number (1-4):1\n",
            "-------Add Contact------\n",
            "Enter name:Shuja\n",
            "Enter phone number:9716288355\n",
            "Enter email:asrar.shuja@gmail.com\n",
            "Addition successful.\n",
            "-------MAIN MENU-------\n",
            "Select an option\n",
            "1. Add Contact\n",
            "2. Delete Contact\n",
            "3. Show Contact\n",
            "4. Exit\n",
            "Enter number (1-4):2\n",
            "------Delete Contact------\n",
            "Enter the name of the contact you want to delete.Shuja\n",
            "Removal successful\n",
            "-------MAIN MENU-------\n",
            "Select an option\n",
            "1. Add Contact\n",
            "2. Delete Contact\n",
            "3. Show Contact\n",
            "4. Exit\n",
            "Enter number (1-4):3\n",
            "----Contact List----\n",
            "-------MAIN MENU-------\n",
            "Select an option\n",
            "1. Add Contact\n",
            "2. Delete Contact\n",
            "3. Show Contact\n",
            "4. Exit\n",
            "Enter number (1-4):1\n",
            "-------Add Contact------\n",
            "Enter name:Shuja\n",
            "Enter phone number:9716288355\n",
            "Enter email:asrar.shuja@gmail.com\n",
            "Addition successful.\n",
            "-------MAIN MENU-------\n",
            "Select an option\n",
            "1. Add Contact\n",
            "2. Delete Contact\n",
            "3. Show Contact\n",
            "4. Exit\n",
            "Enter number (1-4):3\n",
            "----Contact List----\n",
            "{'name': 'Shuja', 'phone': '9716288355', 'email': 'asrar.shuja@gmail.com'}\n",
            "-------MAIN MENU-------\n",
            "Select an option\n",
            "1. Add Contact\n",
            "2. Delete Contact\n",
            "3. Show Contact\n",
            "4. Exit\n"
          ]
        }
      ]
    }
  ],
  "metadata": {
    "colab": {
      "provenance": [],
      "authorship_tag": "ABX9TyMK5dXv6MR+E4whSJULFiwf",
      "include_colab_link": true
    },
    "kernelspec": {
      "display_name": "Python 3",
      "name": "python3"
    },
    "language_info": {
      "name": "python"
    }
  },
  "nbformat": 4,
  "nbformat_minor": 0
}