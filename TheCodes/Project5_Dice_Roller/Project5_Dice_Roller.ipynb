{
  "nbformat": 4,
  "nbformat_minor": 0,
  "metadata": {
    "colab": {
      "provenance": [],
      "authorship_tag": "ABX9TyNmQVS7gXwEl1bRb0ip431a",
      "include_colab_link": true
    },
    "kernelspec": {
      "name": "python3",
      "display_name": "Python 3"
    },
    "language_info": {
      "name": "python"
    }
  },
  "cells": [
    {
      "cell_type": "markdown",
      "metadata": {
        "id": "view-in-github",
        "colab_type": "text"
      },
      "source": [
        "<a href=\"https://colab.research.google.com/github/Shuja1401/BuildingBlocks/blob/main/Project5_Dice_Roller.ipynb\" target=\"_parent\"><img src=\"https://colab.research.google.com/assets/colab-badge.svg\" alt=\"Open In Colab\"/></a>"
      ]
    },
    {
      "cell_type": "code",
      "execution_count": 3,
      "metadata": {
        "colab": {
          "base_uri": "https://localhost:8080/"
        },
        "id": "iVfuevJAECmM",
        "outputId": "cd8d91b7-ae67-44df-8625-699adcc77266"
      },
      "outputs": [
        {
          "name": "stdout",
          "output_type": "stream",
          "text": [
            "Press enter to play (press q to quit):\n",
            "1\n",
            "Press enter to play (press q to quit):\n",
            "2\n",
            "Press enter to play (press q to quit):\n",
            "4\n",
            "Press enter to play (press q to quit):\n",
            "1\n",
            "Press enter to play (press q to quit):\n",
            "4\n",
            "Press enter to play (press q to quit):\n",
            "1\n",
            "Press enter to play (press q to quit):\n",
            "6\n",
            "Press enter to play (press q to quit):\n",
            "4\n",
            "Press enter to play (press q to quit):q\n"
          ]
        }
      ],
      "source": [
        "import random\n",
        "def generate_no():\n",
        "  print(random.randint(1,6))\n",
        "\n",
        "while True:\n",
        "  chance=input(\"Press enter to play (press q to quit):\").lower()\n",
        "  if chance==\"q\":\n",
        "    break\n",
        "  elif chance==\"\":\n",
        "    generate_no()\n"
      ]
    }
  ]
}
